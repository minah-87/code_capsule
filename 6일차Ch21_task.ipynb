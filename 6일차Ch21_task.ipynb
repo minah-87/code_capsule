{
 "cells": [
  {
   "cell_type": "markdown",
   "metadata": {},
   "source": [
    "안녕하세요. 수강생 여러분~! Chapter21 ~ 32 수업은 잘 들으셨나요?\n",
    "\n",
    "Chapter21 ~ 32의 수업 내용을 바탕으로 아래 문제를 풀어주시면 됩니다.\n",
    "\n",
    "\n",
    "<br>\n",
    "\n",
    "\n",
    "[**답변 입력 방법**]\n",
    "\n",
    "문제 아래에 있는 코드 입력창에 정답코드를 작성하신 후  __▷ 버튼을 클릭해 코드를 실행__ 해보세요<br>"
   ]
  },
  {
   "cell_type": "markdown",
   "metadata": {},
   "source": [
    "---"
   ]
  },
  {
   "cell_type": "markdown",
   "metadata": {},
   "source": [
    "[문제 1]\n",
    "사용자로부터 이름과 나이를 입력 받아, \"안녕하세요, [이름]님! 당신은 [나이]살입니다.\"라고 출력하는 함수 greet_user를 작성하세요."
   ]
  },
  {
   "cell_type": "code",
   "execution_count": 19,
   "metadata": {},
   "outputs": [
    {
     "name": "stdout",
     "output_type": "stream",
     "text": [
      "안녕하세요, 님! 당신은 살입니다.\n"
     ]
    }
   ],
   "source": [
    "def greet_user():\n",
    "    name = input(\"이름을 입력하세요: \")\n",
    "    age = input(\"나이를 입력하세요: \")\n",
    "    print(f\"안녕하세요, {name}님! 당신은 {age}살입니다.\")\n",
    "\n",
    "# 함수 실행 예시\n",
    "greet_user()"
   ]
  },
  {
   "cell_type": "code",
   "execution_count": 18,
   "metadata": {},
   "outputs": [
    {
     "name": "stdout",
     "output_type": "stream",
     "text": [
      "안녕하세요, 님! 당신은 살입니다.\n"
     ]
    }
   ],
   "source": [
    "def greet_user():\n",
    "    name = input(\"민아\")\n",
    "    age = input(\"40\")\n",
    "    print(f\"안녕하세요, {name}님! 당신은 {age}살입니다.\")\n",
    "\n",
    "# 함수 실행 예시\n",
    "greet_user()"
   ]
  },
  {
   "cell_type": "markdown",
   "metadata": {},
   "source": [
    "---"
   ]
  },
  {
   "cell_type": "markdown",
   "metadata": {},
   "source": [
    "[문제 2] 여러 숫자를 입력받아 그 합계를 반환하는 함수 sum_numbers를 작성하세요. 이 때, 가변 매개변수를 사용하세요."
   ]
  },
  {
   "cell_type": "code",
   "execution_count": 5,
   "metadata": {},
   "outputs": [
    {
     "name": "stdout",
     "output_type": "stream",
     "text": [
      "합계: 100\n"
     ]
    }
   ],
   "source": [
    "def sum_numbers(*numbers):\n",
    "    return sum(numbers)\n",
    "\n",
    "# 예시 사용\n",
    "result = sum_numbers(10, 20, 30, 40)\n",
    "print(\"합계:\", result)  # 출력: 합계: 100"
   ]
  },
  {
   "cell_type": "markdown",
   "metadata": {},
   "source": [
    "---"
   ]
  },
  {
   "cell_type": "markdown",
   "metadata": {},
   "source": [
    "[문제 3] 사용자의 이름을 출력하는 함수 print_name을 작성하세요. 만약 이름이 주어지지 않았다면, 기본값으로 \"익명\"을 사용하세요."
   ]
  },
  {
   "cell_type": "code",
   "execution_count": 6,
   "metadata": {},
   "outputs": [
    {
     "name": "stdout",
     "output_type": "stream",
     "text": [
      "민아\n",
      "익명\n"
     ]
    }
   ],
   "source": [
    "def print_name(name=\"익명\"):\n",
    "    print(name)\n",
    "\n",
    "# 함수 실행 예시\n",
    "print_name(\"민아\")  # 출력: 민아\n",
    "print_name()      # 이름을 주지 않으면 기본값인 익명이 출력됩니다."
   ]
  },
  {
   "cell_type": "markdown",
   "metadata": {},
   "source": [
    "---"
   ]
  },
  {
   "cell_type": "markdown",
   "metadata": {},
   "source": [
    "[문제 4] 사용자의 이름, 나이, 성별을 출력하는 함수 print_info를 작성하세요. 이 때, 모든 매개변수는 키워드 매개변수로만 받도록 하세요."
   ]
  },
  {
   "cell_type": "code",
   "execution_count": 7,
   "metadata": {},
   "outputs": [
    {
     "name": "stdout",
     "output_type": "stream",
     "text": [
      "이름: 민아\n",
      "나이: 25\n",
      "성별: 여성\n"
     ]
    }
   ],
   "source": [
    "def print_info(*, name, age, gender):\n",
    "    print(f\"이름: {name}\")\n",
    "    print(f\"나이: {age}\")\n",
    "    print(f\"성별: {gender}\")\n",
    "\n",
    "# 함수 실행 예시 (키워드 인수만 사용)\n",
    "print_info(name=\"민아\", age=25, gender=\"여성\")"
   ]
  },
  {
   "cell_type": "markdown",
   "metadata": {},
   "source": [
    "---"
   ]
  },
  {
   "cell_type": "markdown",
   "metadata": {},
   "source": [
    "[문제 5] 두 개의 정수를 받아 합을 반환하는 함수 add를 작성하세요. 매개변수와 반환값에 타입 어노테이션을 추가하세요."
   ]
  },
  {
   "cell_type": "code",
   "execution_count": 8,
   "metadata": {},
   "outputs": [
    {
     "name": "stdout",
     "output_type": "stream",
     "text": [
      "합계: 30\n"
     ]
    }
   ],
   "source": [
    "def add(a: int, b: int) -> int:\n",
    "    return a + b\n",
    "\n",
    "# 함수 실행 예시\n",
    "result = add(10, 20)\n",
    "print(\"합계:\", result)  # 출력: 합계: 30"
   ]
  },
  {
   "cell_type": "markdown",
   "metadata": {},
   "source": [
    "---"
   ]
  },
  {
   "cell_type": "markdown",
   "metadata": {},
   "source": [
    "[문제 6] 0부터 시작하여 n까지의 숫자 중에서 홀수만 생성하는 제너레이터 odd_numbers를 작성하세요."
   ]
  },
  {
   "cell_type": "code",
   "execution_count": 9,
   "metadata": {},
   "outputs": [
    {
     "name": "stdout",
     "output_type": "stream",
     "text": [
      "1 3 5 7 9 "
     ]
    }
   ],
   "source": [
    "def odd_numbers(n: int):\n",
    "    for i in range(n + 1):\n",
    "        if i % 2 == 1:\n",
    "            yield i\n",
    "\n",
    "# 함수 실행 예시\n",
    "for odd in odd_numbers(10):\n",
    "    print(odd, end=\" \")  # 출력: 1 3 5 7 9"
   ]
  },
  {
   "cell_type": "markdown",
   "metadata": {},
   "source": [
    "---"
   ]
  },
  {
   "cell_type": "markdown",
   "metadata": {},
   "source": [
    "[문제 7] 두 숫자를 더하는 람다 함수를 작성하고, 이를 변수에 할당한 후 사용하세요."
   ]
  },
  {
   "cell_type": "code",
   "execution_count": 10,
   "metadata": {},
   "outputs": [
    {
     "name": "stdout",
     "output_type": "stream",
     "text": [
      "Result: 7\n"
     ]
    }
   ],
   "source": [
    "# 두 숫자를 더하는 람다 함수\n",
    "add = lambda x, y: x + y\n",
    "\n",
    "# 함수 사용 예시\n",
    "result = add(3, 4)\n",
    "print(\"Result:\", result)  # 출력: Result: 7"
   ]
  },
  {
   "cell_type": "markdown",
   "metadata": {},
   "source": [
    "---"
   ]
  },
  {
   "cell_type": "markdown",
   "metadata": {},
   "source": [
    "[문제 8] 사용자로부터 3개의 숫자를 입력받아, 이를 튜플로 만든 후 최소값과 최대값을 출력하는 함수 min_max를 작성하세요."
   ]
  },
  {
   "cell_type": "code",
   "execution_count": 12,
   "metadata": {},
   "outputs": [
    {
     "ename": "ValueError",
     "evalue": "invalid literal for int() with base 10: ''",
     "output_type": "error",
     "traceback": [
      "\u001b[31m---------------------------------------------------------------------------\u001b[39m",
      "\u001b[31mValueError\u001b[39m                                Traceback (most recent call last)",
      "\u001b[36mCell\u001b[39m\u001b[36m \u001b[39m\u001b[32mIn[12]\u001b[39m\u001b[32m, line 19\u001b[39m\n\u001b[32m     16\u001b[39m     \u001b[38;5;28mprint\u001b[39m(\u001b[33m\"\u001b[39m\u001b[33m최대값:\u001b[39m\u001b[33m\"\u001b[39m, maximum)\n\u001b[32m     18\u001b[39m \u001b[38;5;66;03m# 함수 실행 예시\u001b[39;00m\n\u001b[32m---> \u001b[39m\u001b[32m19\u001b[39m \u001b[43mmin_max\u001b[49m\u001b[43m(\u001b[49m\u001b[43m)\u001b[49m\n",
      "\u001b[36mCell\u001b[39m\u001b[36m \u001b[39m\u001b[32mIn[12]\u001b[39m\u001b[32m, line 3\u001b[39m, in \u001b[36mmin_max\u001b[39m\u001b[34m()\u001b[39m\n\u001b[32m      1\u001b[39m \u001b[38;5;28;01mdef\u001b[39;00m\u001b[38;5;250m \u001b[39m\u001b[34mmin_max\u001b[39m():\n\u001b[32m      2\u001b[39m     \u001b[38;5;66;03m# 사용자로부터 3개의 숫자를 입력받고 정수로 변환\u001b[39;00m\n\u001b[32m----> \u001b[39m\u001b[32m3\u001b[39m     num1 = \u001b[38;5;28;43mint\u001b[39;49m\u001b[43m(\u001b[49m\u001b[38;5;28;43minput\u001b[39;49m\u001b[43m(\u001b[49m\u001b[33;43m\"\u001b[39;49m\u001b[33;43m첫번째 숫자를 입력하세요: \u001b[39;49m\u001b[33;43m\"\u001b[39;49m\u001b[43m)\u001b[49m\u001b[43m)\u001b[49m\n\u001b[32m      4\u001b[39m     num2 = \u001b[38;5;28mint\u001b[39m(\u001b[38;5;28minput\u001b[39m(\u001b[33m\"\u001b[39m\u001b[33m두번째 숫자를 입력하세요: \u001b[39m\u001b[33m\"\u001b[39m))\n\u001b[32m      5\u001b[39m     num3 = \u001b[38;5;28mint\u001b[39m(\u001b[38;5;28minput\u001b[39m(\u001b[33m\"\u001b[39m\u001b[33m세번째 숫자를 입력하세요: \u001b[39m\u001b[33m\"\u001b[39m))\n",
      "\u001b[31mValueError\u001b[39m: invalid literal for int() with base 10: ''"
     ]
    }
   ],
   "source": [
    "def min_max():\n",
    "    # 사용자로부터 3개의 숫자를 입력받고 정수로 변환\n",
    "    num1 = int(input(\"첫번째 숫자를 입력하세요: \"))\n",
    "    num2 = int(input(\"두번째 숫자를 입력하세요: \"))\n",
    "    num3 = int(input(\"세번째 숫자를 입력하세요: \"))\n",
    "\n",
    "    # 입력받은 숫자들을 튜플로 만듭니다.\n",
    "    numbers = (num1, num2, num3)\n",
    "\n",
    "    # 튜플의 최소값과 최대값을 구합니다.\n",
    "    minimum = min(numbers)\n",
    "    maximum = max(numbers)\n",
    "\n",
    "    # 결과 출력\n",
    "    print(\"최소값:\", minimum)\n",
    "    print(\"최대값:\", maximum)\n",
    "\n",
    "# 함수 실행 예시\n",
    "min_max()"
   ]
  },
  {
   "cell_type": "markdown",
   "metadata": {},
   "source": [
    "---"
   ]
  },
  {
   "cell_type": "markdown",
   "metadata": {},
   "source": [
    "[문제 9] 주어진 숫자가 짝수인지 확인하는 함수 is_even을 작성하세요. 짝수라면 True를, 아니라면 False를 반환하세요. 함수 내에서 조기 리턴을 활용하세요."
   ]
  },
  {
   "cell_type": "code",
   "execution_count": 13,
   "metadata": {},
   "outputs": [
    {
     "name": "stdout",
     "output_type": "stream",
     "text": [
      "True\n",
      "False\n"
     ]
    }
   ],
   "source": [
    "def is_even(n: int) -> bool:\n",
    "    if n % 2 != 0:\n",
    "        return False\n",
    "    return True\n",
    "\n",
    "# 함수 실행 예시\n",
    "print(is_even(4))  # 출력: True\n",
    "print(is_even(3))  # 출력: False"
   ]
  },
  {
   "cell_type": "markdown",
   "metadata": {},
   "source": [
    "---"
   ]
  },
  {
   "cell_type": "markdown",
   "metadata": {},
   "source": [
    "[문제 10] 팩토리얼을 계산하는 재귀 함수 factorial을 작성하세요."
   ]
  },
  {
   "cell_type": "code",
   "execution_count": 14,
   "metadata": {},
   "outputs": [
    {
     "name": "stdout",
     "output_type": "stream",
     "text": [
      "5! = 120\n"
     ]
    }
   ],
   "source": [
    "def factorial(n: int) -> int:\n",
    "    # 재귀 호출의 종료 조건: n이 1 이하인 경우 1을 반환합니다.\n",
    "    if n <= 1:\n",
    "        return 1\n",
    "    # 재귀적으로 팩토리얼 계산\n",
    "    return n * factorial(n - 1)\n",
    "\n",
    "# 함수 실행 예시\n",
    "print(\"5! =\", factorial(5))  # 출력: 5! = 120"
   ]
  },
  {
   "cell_type": "markdown",
   "metadata": {},
   "source": [
    "---"
   ]
  },
  {
   "cell_type": "markdown",
   "metadata": {},
   "source": [
    "[문제 11] 문자열 리스트를 받아, 각 문자열의 길이를 출력하는 함수 print_lengths를 작성하세요."
   ]
  },
  {
   "cell_type": "code",
   "execution_count": 15,
   "metadata": {},
   "outputs": [
    {
     "name": "stdout",
     "output_type": "stream",
     "text": [
      "5\n",
      "3\n",
      "5\n"
     ]
    }
   ],
   "source": [
    "def print_lengths(strings: list):\n",
    "    for s in strings:\n",
    "        print(len(s))\n",
    "\n",
    "# 함수 실행 예시\n",
    "sample_list = [\"안녕하세요\", \"파이썬\", \"프로그래밍\"]\n",
    "print_lengths(sample_list)"
   ]
  },
  {
   "cell_type": "markdown",
   "metadata": {},
   "source": [
    "---"
   ]
  },
  {
   "cell_type": "markdown",
   "metadata": {},
   "source": [
    "[문제 12] 두 문자열을 받아서 긴 문자열을 반환하는 함수 longer_string을 작성하세요. 만약 두 문자열의 길이가 같다면, 첫 번째 문자열을 반환하세요."
   ]
  },
  {
   "cell_type": "code",
   "execution_count": 16,
   "metadata": {},
   "outputs": [
    {
     "name": "stdout",
     "output_type": "stream",
     "text": [
      "world!\n",
      "python\n"
     ]
    }
   ],
   "source": [
    "def longer_string(str1: str, str2: str) -> str:\n",
    "    if len(str2) > len(str1):\n",
    "        return str2\n",
    "    return str1\n",
    "\n",
    "# 함수 실행 예시\n",
    "result1 = longer_string(\"hello\", \"world!\")\n",
    "print(result1)  # 출력: \"world!\" (길이가 6 vs 5)\n",
    "\n",
    "result2 = longer_string(\"python\", \"coding\")\n",
    "print(result2)  # 출력: \"python\" (길이가 같으므로 첫 번째 문자열 반환)"
   ]
  }
 ],
 "metadata": {
  "kernelspec": {
   "display_name": "Python 3",
   "language": "python",
   "name": "python3"
  },
  "language_info": {
   "codemirror_mode": {
    "name": "ipython",
    "version": 3
   },
   "file_extension": ".py",
   "mimetype": "text/x-python",
   "name": "python",
   "nbconvert_exporter": "python",
   "pygments_lexer": "ipython3",
   "version": "3.11.9"
  }
 },
 "nbformat": 4,
 "nbformat_minor": 2
}
